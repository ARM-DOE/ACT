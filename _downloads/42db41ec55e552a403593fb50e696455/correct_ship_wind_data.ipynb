{
  "cells": [
    {
      "cell_type": "code",
      "execution_count": null,
      "metadata": {
        "collapsed": false
      },
      "outputs": [],
      "source": [
        "%matplotlib inline"
      ]
    },
    {
      "cell_type": "markdown",
      "metadata": {},
      "source": [
        "\n# Example on how to correct wind data for ship motion\n\nThis example shows how to calculate course and speed\nover ground of the ship and use it to correct the\nwind speed and direction data.\n\n"
      ]
    },
    {
      "cell_type": "code",
      "execution_count": null,
      "metadata": {
        "collapsed": false
      },
      "outputs": [],
      "source": [
        "import act\nimport xarray as xr\n\n# Read in the navigation data, mainly for the lat/lon\nnav = act.io.armfiles.read_netcdf(\n    act.tests.sample_files.EXAMPLE_NAV)\n\n# Calculate course and speed over ground from the NAV\n# lat and lon data\nnav = act.utils.ship_utils.calc_cog_sog(nav)\n\n# Read in the data containing the wind speed and direction\naosmet = act.io.armfiles.read_netcdf(\n    act.tests.sample_files.EXAMPLE_AOSMET)\n\n# Merge the navigation and wind data together\n# This have been previously resampled to 1-minute data\nobj = xr.merge([nav, aosmet], compat='override')\n\n# Call the correction for the winds.  Note, that this only\n# corrects for ship course and speed, not roll and pitch.\nobj = act.corrections.ship.correct_wind(obj)\n\nnav.close()\naosmet.close()\nobj.close()"
      ]
    }
  ],
  "metadata": {
    "kernelspec": {
      "display_name": "Python 3",
      "language": "python",
      "name": "python3"
    },
    "language_info": {
      "codemirror_mode": {
        "name": "ipython",
        "version": 3
      },
      "file_extension": ".py",
      "mimetype": "text/x-python",
      "name": "python",
      "nbconvert_exporter": "python",
      "pygments_lexer": "ipython3",
      "version": "3.6.12"
    }
  },
  "nbformat": 4,
  "nbformat_minor": 0
}