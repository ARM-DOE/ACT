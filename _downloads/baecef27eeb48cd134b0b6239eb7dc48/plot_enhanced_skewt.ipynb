{
  "cells": [
    {
      "cell_type": "markdown",
      "metadata": {},
      "source": [
        "\n# Enhanced plot of a sounding\n\nThis example shows how to make an enhance plot for sounding data\nwhich includes a Skew-T plot, hodograph, and stability indicies.\n\nAuthor: Adam Theisen\n"
      ]
    },
    {
      "cell_type": "code",
      "execution_count": null,
      "metadata": {
        "collapsed": false
      },
      "outputs": [],
      "source": [
        "import glob\nimport metpy\nimport numpy as np\nimport xarray as xr\nfrom matplotlib import pyplot as plt\nimport act\n\n# Read data\nfile = sorted(glob.glob(act.tests.sample_files.EXAMPLE_SONDE1))\nds = act.io.armfiles.read_netcdf(file)\n\n# Plot enhanced Skew-T plot\ndisplay = act.plotting.SkewTDisplay(ds)\ndisplay.plot_enhanced_skewt(color_field='alt')\n\nds.close()\nplt.show()"
      ]
    }
  ],
  "metadata": {
    "kernelspec": {
      "display_name": "Python 3",
      "language": "python",
      "name": "python3"
    },
    "language_info": {
      "codemirror_mode": {
        "name": "ipython",
        "version": 3
      },
      "file_extension": ".py",
      "mimetype": "text/x-python",
      "name": "python",
      "nbconvert_exporter": "python",
      "pygments_lexer": "ipython3",
      "version": "3.10.11"
    }
  },
  "nbformat": 4,
  "nbformat_minor": 0
}