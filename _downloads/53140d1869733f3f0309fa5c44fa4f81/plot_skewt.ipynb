{
  "cells": [
    {
      "cell_type": "markdown",
      "metadata": {},
      "source": [
        "\n# Skew-T plot of a sounding\n\nThis example shows how to make a Skew-T plot from a sounding\nand calculate stability indicies.\n"
      ]
    },
    {
      "cell_type": "code",
      "execution_count": null,
      "metadata": {
        "collapsed": false
      },
      "outputs": [],
      "source": [
        "import metpy\nimport xarray as xr\nfrom matplotlib import pyplot as plt\n\nimport act\n\n# Make sure attributes are retained\nxr.set_options(keep_attrs=True)\n\n# Read data\nsonde_ds = act.io.armfiles.read_netcdf(act.tests.sample_files.EXAMPLE_SONDE1)\n\nprint(list(sonde_ds))\n# Calculate stability indicies\nsonde_ds = act.retrievals.calculate_stability_indicies(\n    sonde_ds, temp_name='tdry', td_name='dp', p_name='pres'\n)\nprint(sonde_ds['lifted_index'])\n\n# Set up plot\nskewt = act.plotting.SkewTDisplay(sonde_ds, figsize=(15, 10))\n\n# Add data\nskewt.plot_from_u_and_v('u_wind', 'v_wind', 'pres', 'tdry', 'dp')\nsonde_ds.close()\nplt.show()"
      ]
    }
  ],
  "metadata": {
    "kernelspec": {
      "display_name": "Python 3",
      "language": "python",
      "name": "python3"
    },
    "language_info": {
      "codemirror_mode": {
        "name": "ipython",
        "version": 3
      },
      "file_extension": ".py",
      "mimetype": "text/x-python",
      "name": "python",
      "nbconvert_exporter": "python",
      "pygments_lexer": "ipython3",
      "version": "3.11.5"
    }
  },
  "nbformat": 4,
  "nbformat_minor": 0
}