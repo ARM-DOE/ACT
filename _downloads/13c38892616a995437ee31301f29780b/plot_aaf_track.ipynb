{
  "cells": [
    {
      "cell_type": "markdown",
      "metadata": {},
      "source": [
        "\n# Plot ARM AAF Flight Path\n\nPlot the ARM AAF flight path using the GeographicPlotDisplay\n\nAuthor: Joe O'Brien\n"
      ]
    },
    {
      "cell_type": "code",
      "execution_count": null,
      "metadata": {
        "collapsed": false
      },
      "outputs": [],
      "source": [
        "from arm_test_data import DATASETS\nimport matplotlib.pyplot as plt\n\nimport act\nfrom act.io.icartt import read_icartt\n\n# Call the read_icartt function, which supports input\n# for ICARTT (v2.0) formatted files.\n# Example file is ARM Aerial Facility Navigation Data\nfilename_icartt = DATASETS.fetch('AAFNAV_COR_20181104_R0.ict')\nds = read_icartt(filename_icartt)\n\n# Use GeographicPlotDisplay for referencing.\n# NOTE: Cartopy is needed!\ndisplay = act.plotting.GeographicPlotDisplay(ds, figsize=(12, 10))\n\n# Plot the ARM AAF flight track with respect to Pressure Altitude\ndisplay.geoplot('press_alt', lat_field='lat', lon_field='lon')\n\n# Display the plot\nplt.show()"
      ]
    }
  ],
  "metadata": {
    "kernelspec": {
      "display_name": "Python 3",
      "language": "python",
      "name": "python3"
    },
    "language_info": {
      "codemirror_mode": {
        "name": "ipython",
        "version": 3
      },
      "file_extension": ".py",
      "mimetype": "text/x-python",
      "name": "python",
      "nbconvert_exporter": "python",
      "pygments_lexer": "ipython3",
      "version": "3.11.8"
    }
  },
  "nbformat": 4,
  "nbformat_minor": 0
}