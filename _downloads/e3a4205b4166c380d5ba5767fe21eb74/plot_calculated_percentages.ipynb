{
  "cells": [
    {
      "cell_type": "markdown",
      "metadata": {},
      "source": [
        "\n# Calculate and plot aerosol percentages.\n\nExample on how to plot a Pie Chart of the composition of aerosols in a volume of air by\nobtaining percentages of each aerosol from the dataset.\n\nAuthor: Zach Sherman\n"
      ]
    },
    {
      "cell_type": "code",
      "execution_count": null,
      "metadata": {
        "collapsed": false
      },
      "outputs": [],
      "source": [
        "from arm_test_data import DATASETS\nimport matplotlib.pyplot as plt\n\nimport act\n\n# Read in the data.\nds = act.io.read_arm_netcdf(DATASETS.fetch(\"sgpaosacsmE13.b2.20230420.000109.nc\"))\n\n# Calculate percentages using selected fields.\nfields = ['sulfate', 'ammonium', 'nitrate', 'chloride']\ntime_slice = ('2023-04-20T17:38:20.000000000', '2023-04-20T20:29:47.000000000')\nthreshold = 0.0\npercentages = act.utils.calculate_percentages(ds, fields, time_slice=time_slice, threshold=0.0)\n\n# Get values for the pie chart.\nlabels = percentages.keys()\nsizes = [percentages[i] for i in percentages.keys()]\n\n# Plot the figure\nfig, ax = plt.subplots()\nax.pie(sizes, labels=labels, autopct='%1.1f%%')\nplt.show()\nds.close()"
      ]
    }
  ],
  "metadata": {
    "kernelspec": {
      "display_name": "Python 3",
      "language": "python",
      "name": "python3"
    },
    "language_info": {
      "codemirror_mode": {
        "name": "ipython",
        "version": 3
      },
      "file_extension": ".py",
      "mimetype": "text/x-python",
      "name": "python",
      "nbconvert_exporter": "python",
      "pygments_lexer": "ipython3",
      "version": "3.12.7"
    }
  },
  "nbformat": 4,
  "nbformat_minor": 0
}