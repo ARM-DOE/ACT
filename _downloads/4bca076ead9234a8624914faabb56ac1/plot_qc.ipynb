{
  "cells": [
    {
      "cell_type": "code",
      "execution_count": null,
      "metadata": {
        "collapsed": false
      },
      "outputs": [],
      "source": [
        "%matplotlib inline"
      ]
    },
    {
      "cell_type": "markdown",
      "metadata": {},
      "source": [
        "\n# Example on how to query the ARM DQR webservice\n\nSimple example for querying the ARM DQR webservice\nand plotting up the results\n\nAuthor: Adam Theisen\n\n"
      ]
    },
    {
      "cell_type": "code",
      "execution_count": null,
      "metadata": {
        "collapsed": false
      },
      "outputs": [],
      "source": [
        "import act\nfrom matplotlib import pyplot as plt\n\n# Read in sample AOSMET data\nfiles = act.tests.sample_files.EXAMPLE_AOSMET\nobj = act.io.armfiles.read_netcdf(files)\n\n# Query DQR webservice for a specific variable\nvariable = 'temperature_ambient'\nobj = act.qc.arm.add_dqr_to_qc(obj, variable=variable)\n\n# Plot data\n# Creat Plot Display\ndisplay = act.plotting.TimeSeriesDisplay(obj, figsize=(15, 10), subplot_shape=(2,))\n\n# Plot temperature data in top plot\ndisplay.plot(variable, subplot_index=(0,))\n\n# Plot QC data\ndisplay.qc_flag_block_plot(variable, subplot_index=(1,))\nplt.show()"
      ]
    }
  ],
  "metadata": {
    "kernelspec": {
      "display_name": "Python 3",
      "language": "python",
      "name": "python3"
    },
    "language_info": {
      "codemirror_mode": {
        "name": "ipython",
        "version": 3
      },
      "file_extension": ".py",
      "mimetype": "text/x-python",
      "name": "python",
      "nbconvert_exporter": "python",
      "pygments_lexer": "ipython3",
      "version": "3.6.12"
    }
  },
  "nbformat": 4,
  "nbformat_minor": 0
}