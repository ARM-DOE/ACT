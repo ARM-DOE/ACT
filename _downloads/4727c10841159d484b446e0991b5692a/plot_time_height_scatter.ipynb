{
  "cells": [
    {
      "cell_type": "markdown",
      "metadata": {},
      "source": [
        "\n# Time-Height Scatter Plot\nThis will show how to use the time-height scatter\nplot function that's part of the TimeSeries Display.\n"
      ]
    },
    {
      "cell_type": "code",
      "execution_count": null,
      "metadata": {
        "collapsed": false
      },
      "outputs": [],
      "source": [
        "import matplotlib.pyplot as plt\nimport act\nfrom act.tests import sample_files\n\n# Read in radiosonde data\nds = act.io.arm.read_arm_netcdf(sample_files.EXAMPLE_SONDE1)\n\n# Create scatter plots of the sonde data\ndisplay = act.plotting.TimeSeriesDisplay(ds, figsize=(7, 6), subplot_shape=(2,))\ndisplay.time_height_scatter('tdry', plot_alt_field=True, subplot_index=(0,))\ndisplay.time_height_scatter('rh', subplot_index=(1,), cvd_friendly=True, day_night_background=True)\nplt.tight_layout()\nds.close()\n\nplt.show()"
      ]
    }
  ],
  "metadata": {
    "kernelspec": {
      "display_name": "Python 3",
      "language": "python",
      "name": "python3"
    },
    "language_info": {
      "codemirror_mode": {
        "name": "ipython",
        "version": 3
      },
      "file_extension": ".py",
      "mimetype": "text/x-python",
      "name": "python",
      "nbconvert_exporter": "python",
      "pygments_lexer": "ipython3",
      "version": "3.12.7"
    }
  },
  "nbformat": 4,
  "nbformat_minor": 0
}