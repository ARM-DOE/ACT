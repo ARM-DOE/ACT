{
  "cells": [
    {
      "cell_type": "markdown",
      "metadata": {},
      "source": [
        "\n# Read and plot a Sodar file\n\nThis example shows how to read and display Sodar data from the Argonne\nNational Laboratory (ANL) ATMOS site.\n\nAuthor: Zachary Sherman\n"
      ]
    },
    {
      "cell_type": "code",
      "execution_count": null,
      "metadata": {
        "collapsed": false
      },
      "outputs": [],
      "source": [
        "import matplotlib.pyplot as plt\n\nimport act\n\n# Call the read_sodar function.\n# Example file is a MFAS Sodar at the ATMOS site. More information\n# on the sodar can be found here:\n# https://www.scintec.com/products/flat-array-sodar-mfas/\nds = act.io.read_mfas_sodar(act.tests.EXAMPLE_MFAS_SODAR)\n\n# Create an ACT TimeSeriesDisplay.\ndisplay = act.plotting.TimeSeriesDisplay(\n    {'Shear, Wind Direction, and Speed at ANL ATMOS': ds},\n    subplot_shape=(1,), figsize=(15, 5))\n\n# Plot shear with a wind barb overlay, while using a color vision\n# deficiency (CVD) colormap.\ndisplay.plot('shear', subplot_index=(0,), cb_friendly=True)\ndisplay.plot_barbs_from_spd_dir('speed', 'dir')\nplt.show()"
      ]
    }
  ],
  "metadata": {
    "kernelspec": {
      "display_name": "Python 3",
      "language": "python",
      "name": "python3"
    },
    "language_info": {
      "codemirror_mode": {
        "name": "ipython",
        "version": 3
      },
      "file_extension": ".py",
      "mimetype": "text/x-python",
      "name": "python",
      "nbconvert_exporter": "python",
      "pygments_lexer": "ipython3",
      "version": "3.10.11"
    }
  },
  "nbformat": 4,
  "nbformat_minor": 0
}