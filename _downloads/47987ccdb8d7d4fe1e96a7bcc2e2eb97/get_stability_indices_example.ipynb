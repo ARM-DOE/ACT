{
  "cells": [
    {
      "cell_type": "code",
      "execution_count": null,
      "metadata": {
        "collapsed": false
      },
      "outputs": [],
      "source": [
        "%matplotlib inline"
      ]
    },
    {
      "cell_type": "markdown",
      "metadata": {},
      "source": [
        "\n# Example on how to retrieve stability indicies from a sounding\n\nThis example shows how to retrieve CAPE, CIN, and lifted index\nfrom a sounding.\n"
      ]
    },
    {
      "cell_type": "code",
      "execution_count": null,
      "metadata": {
        "collapsed": false
      },
      "outputs": [],
      "source": [
        "import act\n\nsonde_ds = act.io.armfiles.read_netcdf(\n    act.tests.sample_files.EXAMPLE_SONDE1)\n\nsonde_ds = act.retrievals.calculate_stability_indicies(\n    sonde_ds, temp_name=\"tdry\", td_name=\"dp\", p_name=\"pres\")\nprint(\"Lifted index = \" +\n      str(sonde_ds[\"lifted_index\"].values) +\n      \" \" + str(sonde_ds[\"lifted_index\"].units))\nprint(\"Surface based CAPE = \" +\n      str(sonde_ds[\"surface_based_cape\"].values) +\n      \" \" +\n      str(sonde_ds[\"surface_based_cape\"].units))\nprint(\"Surface based CIN = \" +\n      str(sonde_ds[\"surface_based_cin\"].values) +\n      \" \" +\n      str(sonde_ds[\"surface_based_cin\"].units))\nprint(\"Most unstable CAPE = \" +\n      str(sonde_ds[\"most_unstable_cape\"].values) +\n      \" \" +\n      str(sonde_ds[\"most_unstable_cape\"].units))\nprint(\"Most unstable CIN = \" +\n      str(sonde_ds[\"most_unstable_cin\"].values) +\n      \" \" +\n      str(sonde_ds[\"most_unstable_cin\"].units))\nprint(\"LCL temperature = \" +\n      str(sonde_ds[\"lifted_condensation_level_temperature\"].values) +\n      \" \" +\n      str(sonde_ds[\"lifted_condensation_level_temperature\"].units))\nprint(\"LCL pressure = \" +\n      str(sonde_ds[\"lifted_condensation_level_pressure\"].values) +\n      \" \" +\n      str(sonde_ds[\"lifted_condensation_level_pressure\"].units))\nsonde_ds.close()"
      ]
    }
  ],
  "metadata": {
    "kernelspec": {
      "display_name": "Python 3",
      "language": "python",
      "name": "python3"
    },
    "language_info": {
      "codemirror_mode": {
        "name": "ipython",
        "version": 3
      },
      "file_extension": ".py",
      "mimetype": "text/x-python",
      "name": "python",
      "nbconvert_exporter": "python",
      "pygments_lexer": "ipython3",
      "version": "3.7.9"
    }
  },
  "nbformat": 4,
  "nbformat_minor": 0
}