{
  "cells": [
    {
      "cell_type": "code",
      "execution_count": null,
      "metadata": {
        "collapsed": false
      },
      "outputs": [],
      "source": [
        "%matplotlib inline"
      ]
    },
    {
      "cell_type": "markdown",
      "metadata": {},
      "source": [
        "\n# Example for calculating a weighted average\n\nThis is an example of how to calculate a\nweighted average from the MET TBRG, ORG\nand PWD.  This also calculates the\naccumulated precipitation and displays it\n\n<img src=\"file://../../weighted_average_example.png\">\n"
      ]
    },
    {
      "cell_type": "code",
      "execution_count": null,
      "metadata": {
        "collapsed": false
      },
      "outputs": [],
      "source": [
        "import act\nimport matplotlib.pyplot as plt\nimport xarray as xr\n\n# Specify dictionary of datastreams, variables, and weights\n# Note, all weights should add up to 1.\ncf_ds = {'sgpmetE13.b1': {'variable': ['tbrg_precip_total', 'org_precip_rate_mean',\n                                       'pwd_precip_rate_mean_1min'],\n                          'weight': [0.8, 0.15, 0.05]}}\n\n# Other way to define cf_ds\n# cf_ds = {'sgpmetE13.b1': {'variable': ['tbrg_precip_total'], 'weight': [0.5]},\n#         'sgpmetE13.b1': {'variable': ['org_precip_rate_mean'], 'weight': [0.25]},\n#         'sgpmetE13.b1': {'variable': ['pwd_precip_rate_mean_1min'], 'weight': [0.25]}\n#        }\n\nds = {}\nnew = {}\nout_units = 'mm/hr'\nfor d in cf_ds:\n    obj = act.io.armfiles.read_netcdf(act.tests.sample_files.EXAMPLE_MET_WILDCARD)\n    # Loop through each variable and add to data list\n    new_da = []\n    for v in cf_ds[d]['variable']:\n        da = obj[v]\n        # Accumulate precip variables in new object i\n        obj = act.utils.data_utils.accumulate_precip(obj, v)\n\n        # Convert units and add to dataarray list\n        units = da.attrs['units']\n        if units == 'mm':\n            da.attrs['units'] = 'mm/min'\n        da.values = act.utils.data_utils.convert_units(da.values, da.attrs['units'], out_units)\n        da = da.resample(time='1min').mean()\n        new_da.append(da)\n\n    # Depending on number of variables for each datastream, merge or create dataset\n    if len(new_da) > 1:\n        new_da = xr.merge(new_da)\n    else:\n        new_da = new_da[0].to_dataset()\n\n    # Add to dictionary for the weighting\n    cf_ds[d]['object'] = new_da\n\n    # Add object to dictionary for plotting\n    new[d] = obj\n\n# Calculate weighted averages using the dict defined above\ndata = act.utils.data_utils.ts_weighted_average(cf_ds)\n\n# Add weighted mean to plotting object and calculate accumulation\nnew['weighted'] = data.to_dataset(name='weighted_mean')\nnew['weighted']['weighted_mean'].attrs['units'] = 'mm/hr'\nnew['weighted'] = act.utils.data_utils.accumulate_precip(new['weighted'], 'weighted_mean')\n\n# Plot the accumulations\ndisplay = act.plotting.TimeSeriesDisplay(new, figsize=(12, 8), subplot_shape=(1,))\ndisplay.plot('tbrg_precip_total_accumulated', dsname='sgpmetE13.b1', color='b', label='TBRG, 0.8')\ndisplay.plot('org_precip_rate_mean_accumulated', dsname='sgpmetE13.b1', color='g', label='ORG 0.15')\ndisplay.plot('pwd_precip_rate_mean_1min_accumulated', dsname='sgpmetE13.b1', color='y', label='PWD 0.05')\ndisplay.plot('weighted_mean_accumulated', dsname='weighted', color='k', label='Weighted Avg')\ndisplay.day_night_background('sgpmetE13.b1')\ndisplay.axes[0].legend()\nplt.show()"
      ]
    }
  ],
  "metadata": {
    "kernelspec": {
      "display_name": "Python 3",
      "language": "python",
      "name": "python3"
    },
    "language_info": {
      "codemirror_mode": {
        "name": "ipython",
        "version": 3
      },
      "file_extension": ".py",
      "mimetype": "text/x-python",
      "name": "python",
      "nbconvert_exporter": "python",
      "pygments_lexer": "ipython3",
      "version": "3.7.9"
    }
  },
  "nbformat": 4,
  "nbformat_minor": 0
}