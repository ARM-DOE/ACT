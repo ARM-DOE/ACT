{
  "cells": [
    {
      "cell_type": "code",
      "execution_count": null,
      "metadata": {
        "collapsed": false
      },
      "outputs": [],
      "source": [
        "%matplotlib inline"
      ]
    },
    {
      "cell_type": "markdown",
      "metadata": {},
      "source": [
        "\n# Example on how to plot multiple datasets at a time\n\nThis is an example of how to download and\nplot multiple datasets at a time.\n\n<img src=\"file://../../multi_ds_plot1.png\">\n"
      ]
    },
    {
      "cell_type": "code",
      "execution_count": null,
      "metadata": {
        "collapsed": false
      },
      "outputs": [],
      "source": [
        "import act\nimport matplotlib.pyplot as plt\n\n# Place your username and token here\nusername = ''\ntoken = ''\n\nact.discovery.download_data(username, token, 'sgpceilC1.b1', '2019-01-01', '2019-01-07')\n\n# Read in CEIL data and correct it\nceil_ds = act.io.armfiles.read_netcdf('sgpceilC1.b1/sgpceilC1.b1.201901*.nc')\nceil_ds = act.corrections.ceil.correct_ceil(ceil_ds, -9999.)\n\n# Read in the MET data\nmet_ds = act.io.armfiles.read_netcdf(\n    act.tests.sample_files.EXAMPLE_MET_WILDCARD)\n\n# You can use tuples if the datasets in the tuple contain a\n# datastream attribute. This is required in all ARM datasets.\ndisplay = act.plotting.TimeSeriesDisplay(\n    (ceil_ds, met_ds), subplot_shape=(2, ), figsize=(15, 10))\ndisplay.plot('backscatter', 'sgpceilC1.b1', subplot_index=(0, ))\ndisplay.plot('temp_mean', 'sgpmetE13.b1', subplot_index=(1, ))\ndisplay.day_night_background('sgpmetE13.b1', subplot_index=(1, ))\nplt.show()\n\n# You can also use a dictionary so that you can customize\n# your datastream names to something that may be more useful.\ndisplay = act.plotting.TimeSeriesDisplay(\n    {'ceiliometer': ceil_ds, 'met': met_ds},\n    subplot_shape=(2, ), figsize=(15, 10))\ndisplay.plot('backscatter', 'ceiliometer', subplot_index=(0, ))\ndisplay.plot('temp_mean', 'met', subplot_index=(1, ))\ndisplay.day_night_background('met', subplot_index=(1, ))\nplt.show()\n\nceil_ds.close()\nmet_ds.close()"
      ]
    }
  ],
  "metadata": {
    "kernelspec": {
      "display_name": "Python 3",
      "language": "python",
      "name": "python3"
    },
    "language_info": {
      "codemirror_mode": {
        "name": "ipython",
        "version": 3
      },
      "file_extension": ".py",
      "mimetype": "text/x-python",
      "name": "python",
      "nbconvert_exporter": "python",
      "pygments_lexer": "ipython3",
      "version": "3.7.9"
    }
  },
  "nbformat": 4,
  "nbformat_minor": 0
}