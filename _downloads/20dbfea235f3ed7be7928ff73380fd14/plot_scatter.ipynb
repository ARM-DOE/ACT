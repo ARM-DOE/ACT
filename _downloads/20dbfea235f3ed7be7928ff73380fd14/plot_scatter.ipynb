{
  "cells": [
    {
      "cell_type": "markdown",
      "metadata": {},
      "source": [
        "\n# Compare Aircraft Airspeeds\n\nCompare Aircraft Airspeeds via the DistributionDisplay\nScatter Plot\n\nWritten: Joe O'Brien\n"
      ]
    },
    {
      "cell_type": "code",
      "execution_count": null,
      "metadata": {
        "collapsed": false
      },
      "outputs": [],
      "source": [
        "import act\n\nfrom act.io.icartt import read_icartt\n\n# Call the read_icartt function, which supports input\n# for ICARTT (v2.0) formatted files.\n# Example file is ARM Aerial Facility Navigation Data\nds = read_icartt(act.tests.EXAMPLE_AAF_ICARTT)\n\n# Create a DistributionDisplay object to compare fields\ndisplay = act.plotting.DistributionDisplay(ds)\n\n# Compare aircraft ground speed with indicated airspeed\ndisplay.scatter('true_airspeed',\n                'ground_speed',\n                m_field='ambient_temp',\n                marker='x',\n                cbar_label='Ambient Temperature ($^\\circ$C)'\n                )\n\n# Set the range of the field on the x-axis\ndisplay.set_xrng((40, 140))\ndisplay.set_yrng((40, 140))\n# Display the 1:1 ratio line\ndisplay.set_ratio_line()"
      ]
    }
  ],
  "metadata": {
    "kernelspec": {
      "display_name": "Python 3",
      "language": "python",
      "name": "python3"
    },
    "language_info": {
      "codemirror_mode": {
        "name": "ipython",
        "version": 3
      },
      "file_extension": ".py",
      "mimetype": "text/x-python",
      "name": "python",
      "nbconvert_exporter": "python",
      "pygments_lexer": "ipython3",
      "version": "3.10.11"
    }
  },
  "nbformat": 4,
  "nbformat_minor": 0
}