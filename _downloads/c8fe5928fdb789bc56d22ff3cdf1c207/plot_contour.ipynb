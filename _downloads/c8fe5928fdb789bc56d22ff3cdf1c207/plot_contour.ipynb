{
  "cells": [
    {
      "cell_type": "code",
      "execution_count": null,
      "metadata": {
        "collapsed": false
      },
      "outputs": [],
      "source": [
        "%matplotlib inline"
      ]
    },
    {
      "cell_type": "markdown",
      "metadata": {},
      "source": [
        "\n# Example for plotting up a contour plot\n\nThis is an example of how to prepare\nand plot data for a contour plot\n"
      ]
    },
    {
      "cell_type": "code",
      "execution_count": null,
      "metadata": {
        "collapsed": false
      },
      "outputs": [],
      "source": [
        "import act\nimport glob\nimport matplotlib.pyplot as plt\n\nfiles = glob.glob(act.tests.sample_files.EXAMPLE_MET_CONTOUR)\ntime = '2019-05-08T04:00:00.000000000'\ndata = {}\nfields = {}\nwind_fields = {}\nstation_fields = {}\nfor f in files:\n    obj = act.io.armfiles.read_netcdf(f)\n    data.update({f: obj})\n    fields.update({f: ['lon', 'lat', 'temp_mean']})\n    wind_fields.update({f: ['lon', 'lat',\n                            'wspd_vec_mean', 'wdir_vec_mean']})\n    station_fields.update({f: ['lon', 'lat', 'temp_mean',\n                               'atmos_pressure', 'vapor_pressure_mean',\n                               'rh_mean']})\n\ndisplay = act.plotting.ContourDisplay(data, figsize=(8, 8))\ndisplay.create_contour(fields=fields, time=time, levels=50)\ndisplay.plot_vectors_from_spd_dir(fields=wind_fields, time=time, mesh=True,\n                                  grid_delta=(0.1, 0.1))\ndisplay.plot_station(fields=station_fields, time=time, markersize=7, color='red')\nplt.show()"
      ]
    }
  ],
  "metadata": {
    "kernelspec": {
      "display_name": "Python 3",
      "language": "python",
      "name": "python3"
    },
    "language_info": {
      "codemirror_mode": {
        "name": "ipython",
        "version": 3
      },
      "file_extension": ".py",
      "mimetype": "text/x-python",
      "name": "python",
      "nbconvert_exporter": "python",
      "pygments_lexer": "ipython3",
      "version": "3.7.9"
    }
  },
  "nbformat": 4,
  "nbformat_minor": 0
}