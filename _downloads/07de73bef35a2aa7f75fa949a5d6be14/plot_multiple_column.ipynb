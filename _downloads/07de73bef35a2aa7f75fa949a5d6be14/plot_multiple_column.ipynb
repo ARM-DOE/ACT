{
  "cells": [
    {
      "cell_type": "markdown",
      "metadata": {},
      "source": [
        "\n# Plot a timeseries of sounding data\n\nThis is a simple example for how to plot multiple columns\nin a TimeseriesDisplay.\n\nAuthor: Maxwell Grover\n"
      ]
    },
    {
      "cell_type": "code",
      "execution_count": null,
      "metadata": {
        "collapsed": false
      },
      "outputs": [],
      "source": [
        "from matplotlib import pyplot as plt\n\nimport act\n\nfiles = act.tests.sample_files.EXAMPLE_MET_WILDCARD\nmet_ds = act.io.armfiles.read_netcdf(files)\n\n\n# Plot data\ndisplay = act.plotting.TimeSeriesDisplay(met_ds)\ndisplay.add_subplots((3, 2), figsize=(15, 10))\ndisplay.plot('temp_mean', color='tab:red', subplot_index=(0, 0))\ndisplay.plot('rh_mean', color='tab:green', subplot_index=(1, 0))\ndisplay.plot('wdir_vec_mean', subplot_index=(2, 0))\ndisplay.plot('temp_std', color='tab:red', subplot_index=(0, 1))\ndisplay.plot('rh_std', color='tab:green', subplot_index=(1, 1))\ndisplay.plot('wdir_vec_std', subplot_index=(2, 1))\nplt.show()"
      ]
    }
  ],
  "metadata": {
    "kernelspec": {
      "display_name": "Python 3",
      "language": "python",
      "name": "python3"
    },
    "language_info": {
      "codemirror_mode": {
        "name": "ipython",
        "version": 3
      },
      "file_extension": ".py",
      "mimetype": "text/x-python",
      "name": "python",
      "nbconvert_exporter": "python",
      "pygments_lexer": "ipython3",
      "version": "3.11.5"
    }
  },
  "nbformat": 4,
  "nbformat_minor": 0
}