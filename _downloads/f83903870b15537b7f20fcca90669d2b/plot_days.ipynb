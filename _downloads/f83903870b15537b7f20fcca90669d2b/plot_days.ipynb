{
  "cells": [
    {
      "cell_type": "markdown",
      "metadata": {},
      "source": [
        "\n# Calculate and plot wind rose plots separated by day.\n\nExample of how to read in MET data and plot histograms\nof wind speed and temperature grouped by day.\n\nAuthor: Bobby Jackson\n"
      ]
    },
    {
      "cell_type": "code",
      "execution_count": null,
      "metadata": {
        "collapsed": false
      },
      "outputs": [],
      "source": [
        "import matplotlib.pyplot as plt\nimport numpy as np\nimport act\n\n# Read in the sample MET data\nds = act.io.armfiles.read_netcdf(act.tests.EXAMPLE_MET_WILDCARD)\n\n# Create Plot Display\ndisplay = act.plotting.WindRoseDisplay(ds, figsize=(15, 15), subplot_shape=(3, 3))\ngroupby = display.group_by('day')\ngroupby.plot_group('plot_data', None, dir_field='wdir_vec_mean', spd_field='wspd_vec_mean',\n                   data_field='temp_mean', num_dirs=12, plot_type='line')\n\n# Set theta tick markers for each axis inside display to be inside the polar axes\nfor i in range(3):\n    for j in range(3):\n        display.axes[i, j].tick_params(pad=-20)\nplt.show()\nds.close()"
      ]
    }
  ],
  "metadata": {
    "kernelspec": {
      "display_name": "Python 3",
      "language": "python",
      "name": "python3"
    },
    "language_info": {
      "codemirror_mode": {
        "name": "ipython",
        "version": 3
      },
      "file_extension": ".py",
      "mimetype": "text/x-python",
      "name": "python",
      "nbconvert_exporter": "python",
      "pygments_lexer": "ipython3",
      "version": "3.11.6"
    }
  },
  "nbformat": 4,
  "nbformat_minor": 0
}