{
  "cells": [
    {
      "cell_type": "code",
      "execution_count": null,
      "metadata": {
        "collapsed": false
      },
      "outputs": [],
      "source": [
        "%matplotlib inline"
      ]
    },
    {
      "cell_type": "markdown",
      "metadata": {},
      "source": [
        "\n# Data rose plot\n\nThis is an example of how to display a data rose.\nAs can be seen in the final plot, there are two major\nbullseyes of data, one around 0\u00baC to the Northeast and\nanother around 15\u00baC to the South. This tells us that we\nget lower temperatures when winds are out of the N/NE as\nwould be expected at this location.  This can be extended\nto easily review other types of data as well like aerosols\nand fluxes.\n"
      ]
    },
    {
      "cell_type": "code",
      "execution_count": null,
      "metadata": {
        "collapsed": false
      },
      "outputs": [],
      "source": [
        "import numpy as np\nfrom matplotlib import pyplot as plt\nimport act\n\n# Read in some data with wind speed/direction in the file\nobj = act.io.armfiles.read_netcdf(act.tests.sample_files.EXAMPLE_MET_WILDCARD)\n\n# Set up wind rose display object\ndisplay = act.plotting.WindRoseDisplay(obj, subplot_shape=(2, 3), figsize=(16, 10))\n\n# Plot mean temperature based on wind direction\ndisplay.plot_data('wdir_vec_mean', 'wspd_vec_mean', 'temp_mean',\n                  num_dirs=12, plot_type='line', subplot_index=(0, 0))\n\n# Plot median temperature based on wind direction\ndisplay.plot_data('wdir_vec_mean', 'wspd_vec_mean', 'temp_mean',\n                  num_dirs=12, plot_type='line', subplot_index=(0, 1),\n                  line_plot_calc='median')\n\n# Plot standard deviation of temperature based on wind direction\ndisplay.plot_data('wdir_vec_mean', 'wspd_vec_mean', 'temp_mean',\n                  num_dirs=12, plot_type='line', subplot_index=(0, 2),\n                  line_plot_calc='stdev')\n\n# Plot a contour of counts of temperature based on wind direction\ndisplay.plot_data('wdir_vec_mean', 'wspd_vec_mean', 'temp_mean',\n                  num_dirs=12, plot_type='contour', subplot_index=(1, 0))\n\n# Plot a contour of mean temperature based on wind direction and wind speed\ndisplay.plot_data('wdir_vec_mean', 'wspd_vec_mean', 'temp_mean',\n                  num_dirs=12, plot_type='contour', contour_type='mean',\n                  num_data_bins=10, clevels=21, cmap='rainbow', vmin=-5, vmax=20,\n                  subplot_index=(1, 1))\n\n# Plot a boxplot of temperature based on wind direction\ndisplay.plot_data('wdir_vec_mean', 'wspd_vec_mean', 'temp_mean',\n                  num_dirs=12, plot_type='boxplot', subplot_index=(1, 2))\n\nplt.show()"
      ]
    }
  ],
  "metadata": {
    "kernelspec": {
      "display_name": "Python 3",
      "language": "python",
      "name": "python3"
    },
    "language_info": {
      "codemirror_mode": {
        "name": "ipython",
        "version": 3
      },
      "file_extension": ".py",
      "mimetype": "text/x-python",
      "name": "python",
      "nbconvert_exporter": "python",
      "pygments_lexer": "ipython3",
      "version": "3.10.6"
    }
  },
  "nbformat": 4,
  "nbformat_minor": 0
}