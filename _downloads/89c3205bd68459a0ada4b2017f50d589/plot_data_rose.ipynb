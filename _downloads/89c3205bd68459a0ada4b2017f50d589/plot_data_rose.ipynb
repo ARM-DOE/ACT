{
  "cells": [
    {
      "cell_type": "code",
      "execution_count": null,
      "metadata": {
        "collapsed": false
      },
      "outputs": [],
      "source": [
        "%matplotlib inline"
      ]
    },
    {
      "cell_type": "markdown",
      "metadata": {},
      "source": [
        "\n# Data rose plot\n\nThis is an example of how to display a data rose.\nAs can be seen in the final plot, there are two major\nbullseyes of data, one around 0\u00baC to the Northeast and\nanother around 15\u00baC to the South. This tells us that we\nget lower temperatures when winds are out of the N/NE as\nwould be expected at this location.  This can be extended\nto easily review other types of data as well like aerosols\nand fluxes.\n"
      ]
    },
    {
      "cell_type": "code",
      "execution_count": null,
      "metadata": {
        "collapsed": false
      },
      "outputs": [],
      "source": [
        "import numpy as np\nfrom matplotlib import pyplot as plt\nimport act\n\n# Read in some data that has wind directions\nobj = act.io.armfiles.read_netcdf(act.tests.sample_files.EXAMPLE_MET_WILDCARD)\n\n# Create the display and plot up a contour of temp_mean\ndisplay = act.plotting.WindRoseDisplay(obj)\ndisplay.plot_data('wdir_vec_mean', 'wspd_vec_mean', 'temp_mean',\n                  num_dirs=30, plot_type='Contour', clevels=50)\nplt.show()"
      ]
    }
  ],
  "metadata": {
    "kernelspec": {
      "display_name": "Python 3",
      "language": "python",
      "name": "python3"
    },
    "language_info": {
      "codemirror_mode": {
        "name": "ipython",
        "version": 3
      },
      "file_extension": ".py",
      "mimetype": "text/x-python",
      "name": "python",
      "nbconvert_exporter": "python",
      "pygments_lexer": "ipython3",
      "version": "3.10.5"
    }
  },
  "nbformat": 4,
  "nbformat_minor": 0
}