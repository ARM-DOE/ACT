{
  "cells": [
    {
      "cell_type": "code",
      "execution_count": null,
      "metadata": {
        "collapsed": false
      },
      "outputs": [],
      "source": [
        "%matplotlib inline"
      ]
    },
    {
      "cell_type": "markdown",
      "metadata": {},
      "source": [
        "\n# Example for plotting multidimensional cross sections\n\nIn this example, the VISST\n"
      ]
    },
    {
      "cell_type": "code",
      "execution_count": null,
      "metadata": {
        "collapsed": false
      },
      "outputs": [],
      "source": [
        "from datetime import datetime\n\nimport matplotlib.pyplot as plt\nimport xarray as xr\n\nimport act\n\nmy_ds = act.io.armfiles.read_netcdf('twpvisst*')\n\n# Cross section display requires that the variable being plotted be reduced to two\n# Dimensions whose coordinates can be specified by variables in the file\nprint(my_ds)\ndisp = act.plotting.XSectionDisplay(my_ds, subplot_shape=(2, 2))\ndisp.plot_xsection_map(\n    None,\n    'ir_temperature',\n    x='longitude',\n    y='latitude',\n    sel_kwargs={'time': datetime(2005, 7, 5, 1, 45, 00)},\n    isel_kwargs={'scn_type': 0},\n    cmap='Greys',\n    vmin=200,\n    vmax=320,\n    subplot_index=(0, 0),\n)\ndisp.plot_xsection_map(\n    None,\n    'ir_temperature',\n    x='longitude',\n    y='latitude',\n    sel_kwargs={'time': datetime(2005, 7, 5, 2, 45, 00)},\n    isel_kwargs={'scn_type': 0},\n    cmap='Greys',\n    vmin=200,\n    vmax=320,\n    subplot_index=(1, 0),\n)\ndisp.plot_xsection_map(\n    None,\n    'ir_temperature',\n    x='longitude',\n    y='latitude',\n    sel_kwargs={'time': datetime(2005, 7, 5, 3, 25, 00)},\n    isel_kwargs={'scn_type': 0},\n    cmap='Greys',\n    vmin=200,\n    vmax=320,\n    subplot_index=(0, 1),\n)\ndisp.plot_xsection_map(\n    None,\n    'ir_temperature',\n    x='longitude',\n    y='latitude',\n    sel_kwargs={'time': datetime(2005, 7, 5, 3, 55, 00)},\n    isel_kwargs={'scn_type': 0},\n    cmap='Greys',\n    vmin=200,\n    vmax=320,\n    subplot_index=(1, 1),\n)\n\nplt.show()\nmy_ds.close()"
      ]
    }
  ],
  "metadata": {
    "kernelspec": {
      "display_name": "Python 3",
      "language": "python",
      "name": "python3"
    },
    "language_info": {
      "codemirror_mode": {
        "name": "ipython",
        "version": 3
      },
      "file_extension": ".py",
      "mimetype": "text/x-python",
      "name": "python",
      "nbconvert_exporter": "python",
      "pygments_lexer": "ipython3",
      "version": "3.10.2"
    }
  },
  "nbformat": 4,
  "nbformat_minor": 0
}