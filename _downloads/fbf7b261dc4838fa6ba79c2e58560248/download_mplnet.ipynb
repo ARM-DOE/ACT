{
  "cells": [
    {
      "cell_type": "markdown",
      "metadata": {},
      "source": [
        "\n# NASA MPLNET\n\nThis example shows how to download data from\nNASA's MicroPulsed Lidar Network\n"
      ]
    },
    {
      "cell_type": "code",
      "execution_count": null,
      "metadata": {
        "collapsed": false
      },
      "outputs": [],
      "source": [
        "import act\n\n# Determine MPLNET site of interest\nmeta = act.discovery.get_mplnet_meta(sites=\"active\", method=\"data\", print_to_screen=True)\n\n# Download MPLNET data for site of interest\noutput = act.discovery.download_mplnet_data(\n    version=3, level=1, product=\"NRB\", site=\"GSFC\", year=\"2022\", month=\"09\", day=\"01\"\n)"
      ]
    }
  ],
  "metadata": {
    "kernelspec": {
      "display_name": "Python 3",
      "language": "python",
      "name": "python3"
    },
    "language_info": {
      "codemirror_mode": {
        "name": "ipython",
        "version": 3
      },
      "file_extension": ".py",
      "mimetype": "text/x-python",
      "name": "python",
      "nbconvert_exporter": "python",
      "pygments_lexer": "ipython3",
      "version": "3.12.7"
    }
  },
  "nbformat": 4,
  "nbformat_minor": 0
}