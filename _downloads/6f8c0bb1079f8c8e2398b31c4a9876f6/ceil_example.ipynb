{
  "cells": [
    {
      "cell_type": "code",
      "execution_count": null,
      "metadata": {
        "collapsed": false
      },
      "outputs": [],
      "source": [
        "%matplotlib inline"
      ]
    },
    {
      "cell_type": "markdown",
      "metadata": {},
      "source": [
        "\n# Example for looking at ceilometer data\n\n\nThis is an example of how to download and\nplot ceiliometer data from the SGP site\nover Oklahoma.\n\n![](../../plot_ceil_example.png)\n\n"
      ]
    },
    {
      "cell_type": "code",
      "execution_count": null,
      "metadata": {
        "collapsed": false
      },
      "outputs": [],
      "source": [
        "import act\nimport matplotlib.pyplot as plt\n\n# Place your username and token here\nusername = ''\ntoken = ''\n\nact.discovery.download_data(username, token, 'sgpceilC1.b1',\n                            '2017-01-14', '2017-01-19')\n\nceil_ds = act.io.armfiles.read_netcdf('sgpceilC1.b1/*')\nprint(ceil_ds)\nceil_ds = act.corrections.ceil.correct_ceil(ceil_ds, -9999.)\ndisplay = act.plotting.TimeSeriesDisplay(\n    ceil_ds, subplot_shape=(1, ), figsize=(15, 5))\ndisplay.plot('backscatter', subplot_index=(0, ))\nplt.show()"
      ]
    }
  ],
  "metadata": {
    "kernelspec": {
      "display_name": "Python 3",
      "language": "python",
      "name": "python3"
    },
    "language_info": {
      "codemirror_mode": {
        "name": "ipython",
        "version": 3
      },
      "file_extension": ".py",
      "mimetype": "text/x-python",
      "name": "python",
      "nbconvert_exporter": "python",
      "pygments_lexer": "ipython3",
      "version": "3.7.3"
    }
  },
  "nbformat": 4,
  "nbformat_minor": 0
}