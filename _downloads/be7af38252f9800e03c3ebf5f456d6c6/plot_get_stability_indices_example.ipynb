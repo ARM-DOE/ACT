{
  "cells": [
    {
      "cell_type": "markdown",
      "metadata": {},
      "source": [
        "\n# Retrieve stability indicies from a sounding\n\nThis example shows how to retrieve CAPE, CIN, and lifted index\nfrom a sounding.\n"
      ]
    },
    {
      "cell_type": "code",
      "execution_count": null,
      "metadata": {
        "collapsed": false
      },
      "outputs": [],
      "source": [
        "import warnings\n\nfrom arm_test_data import DATASETS\n\nimport act\n\nwarnings.filterwarnings('ignore')\n\n\ndef print_summary(ds, variables):\n    for var_name in variables:\n        print(f'{var_name}: {ds[var_name].values} ' f\"units={ds[var_name].attrs['units']}\")\n    print()\n\n\nfilename_sonde = DATASETS.fetch('sgpsondewnpnC1.b1.20190101.053200.cdf')\nsonde_ds = act.io.arm.read_arm_netcdf(filename_sonde)\n\nsonde_ds = act.retrievals.calculate_stability_indicies(\n    sonde_ds, temp_name='tdry', td_name='dp', p_name='pres'\n)\n\nvariables = [\n    'lifted_index',\n    'surface_based_cape',\n    'surface_based_cin',\n    'most_unstable_cape',\n    'most_unstable_cin',\n    'lifted_condensation_level_temperature',\n    'lifted_condensation_level_pressure',\n]\n\nprint_summary(sonde_ds, variables)"
      ]
    }
  ],
  "metadata": {
    "kernelspec": {
      "display_name": "Python 3",
      "language": "python",
      "name": "python3"
    },
    "language_info": {
      "codemirror_mode": {
        "name": "ipython",
        "version": 3
      },
      "file_extension": ".py",
      "mimetype": "text/x-python",
      "name": "python",
      "nbconvert_exporter": "python",
      "pygments_lexer": "ipython3",
      "version": "3.11.8"
    }
  },
  "nbformat": 4,
  "nbformat_minor": 0
}