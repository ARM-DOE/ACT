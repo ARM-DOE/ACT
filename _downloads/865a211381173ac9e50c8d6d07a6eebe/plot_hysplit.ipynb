{
  "cells": [
    {
      "cell_type": "markdown",
      "metadata": {},
      "source": [
        "\n# Read and plot a HYSPLIT trajectory file from a HYSPlIT run.\n\nThis example shows how to read and plot a backtrajectory calculated by the NOAA\nHYSPLIT model over Houston.\n\nAuthor: Robert Jackson\n"
      ]
    },
    {
      "cell_type": "code",
      "execution_count": null,
      "metadata": {
        "collapsed": false
      },
      "outputs": [],
      "source": [
        "import act\nimport matplotlib.pyplot as plt\n\nfrom arm_test_data import DATASETS\n\n# Load the data\nfilename = DATASETS.fetch('houstonaug300.0summer2010080100')\nds = act.io.read_hysplit(filename)\n\n# Use the GeographicPlotDisplay object to make the plot\ndisp = act.plotting.GeographicPlotDisplay(ds)\ndisp.geoplot('PRESSURE', cartopy_feature=['STATES', 'OCEAN', 'LAND'])\nplt.show()"
      ]
    }
  ],
  "metadata": {
    "kernelspec": {
      "display_name": "Python 3",
      "language": "python",
      "name": "python3"
    },
    "language_info": {
      "codemirror_mode": {
        "name": "ipython",
        "version": 3
      },
      "file_extension": ".py",
      "mimetype": "text/x-python",
      "name": "python",
      "nbconvert_exporter": "python",
      "pygments_lexer": "ipython3",
      "version": "3.11.8"
    }
  },
  "nbformat": 4,
  "nbformat_minor": 0
}