{
  "cells": [
    {
      "cell_type": "code",
      "execution_count": null,
      "metadata": {
        "collapsed": false
      },
      "outputs": [],
      "source": [
        "%matplotlib inline"
      ]
    },
    {
      "cell_type": "markdown",
      "metadata": {},
      "source": [
        "\n# Working with and expanding embedded quality control variables\n\nThis is an example of how to use existing or create new quality\ncontrol varibles and extend the quality control flagging. The\nanicllary quality control variable can be expanded by integrating\nexternal Data Quality Reports, adding additional generic ACT tests,\ninstrument specific ACT tests, or reading a configuraiton file of\nknown failures to clean up the data variable.\n"
      ]
    },
    {
      "cell_type": "code",
      "execution_count": null,
      "metadata": {
        "collapsed": false
      },
      "outputs": [],
      "source": [
        "import os\n\nimport matplotlib.pyplot as plt\n\nimport act\n\n# Place your username and token here for use with ARM Live service\n# https://adc.arm.gov/armlive/\nusername = os.getenv('ARM_USERNAME')\ntoken = os.getenv('ARM_PASSWORD')\n\n# We can use the ACT module for downloading data from the ARM web service\nif username is None or token is None or len(username) == 0 or len(token) == 0:\n    results = act.tests.sample_files.EXAMPLE_MFRSR\nelse:\n    results = act.discovery.download_data(\n        username, token, 'sgpmfrsr7nchE11.b1', '2021-03-29', '2021-03-29'\n    )\nprint(results)\n\n# Let's plot up some data to see what we're working with. For this example, we'll use\n# diffuse_hemisp_narrowband_filter4. The data files uses an ancillary quality control variable\n# named with the same value prepened with 'qc_'. To read less data into memory we can tell\n# the reader to only read in the variables we plan to use with the keep_variables keyword.\nvariable = 'diffuse_hemisp_narrowband_filter4'\nqc_variable = 'qc_' + variable\n\n# Next up is to read the file into an xarray object using the ACT reader. We then can print out a\n# listing of everything in the object. Also, call the cleanup method on the object by setting\n# the cleanup_qc keyword. This will convert the quality control variable from the ARM stanard\n# to Climate and Forecast standard used internally for all the quality control calls.\nkeep_vars = [variable, qc_variable, 'lat', 'lon']\nobj = act.io.armfiles.read_netcdf(results, keep_variables=keep_vars, cleanup_qc=True)\nprint(obj)\n\n# Create a plotting display object with 2 plots\ndisplay = act.plotting.TimeSeriesDisplay(obj, figsize=(15, 10), subplot_shape=(2,))\n\n# Plot up the diffuse variable in the first plot\ndisplay.plot(variable, subplot_index=(0,), day_night_background=True)\n\n# Plot up the QC variable in the second plot\ndisplay.qc_flag_block_plot(variable, subplot_index=(1,))\n\nplt.show()\n\n# Now lets remove some of these outliers by modifying the data in the Dataset based on\n# the test results stored in the ancillary quality control variable.\n# By default the ancillary quality control variable is removed after appying the test\n# results, but we are going to use the del_qc_var to keep in Dataset so it\n# can be used with additional tests later.\nobj.qcfilter.datafilter(variable, rm_tests=[2, 3], del_qc_var=False)\n\n# Create a plotting display object with 2 plots\ndisplay = act.plotting.TimeSeriesDisplay(obj, figsize=(15, 10), subplot_shape=(2,))\n\n# Plot up the diffuse variable in the first plot\ndisplay.plot(variable, subplot_index=(0,), day_night_background=True)\n\n# Plot up the QC variable in the second plot\ndisplay.qc_flag_block_plot(variable, subplot_index=(1,))\n\nplt.show()\n\n# Since the embedded QC is not removing all the outliers, let's check to see if there are any\n# Data Quality Reports (DQR) using ARMs DQR Webservice. The great thing is, that ACT has codes\n# for working with this webservice.\n# In this example, we can see that there's a DQR for a shadowband misalignment and we can\n# find out more information by looking at the actual DQR:\n# https://adc.arm.gov/ArchiveServices/DQRService?dqrid=D210405.5\n\n# Query the ARM DQR Webservice and update the ancillary quality control variable to\n# contain a new test using information from the DQR.\nobj = act.qc.arm.add_dqr_to_qc(obj, variable=variable)\n\n# Create a plotting display object with 2 plots\ndisplay = act.plotting.TimeSeriesDisplay(obj, figsize=(15, 10), subplot_shape=(2,))\n\n# Plot up the diffuse variable in the first plot\ndisplay.plot(variable, subplot_index=(0,), day_night_background=True)\n\n# Plot up the QC variable in the second plot\ndisplay.qc_flag_block_plot(variable, subplot_index=(1,))\n\nplt.show()\n\n# ACT has a number of additional QC tests that could be applied to the data. For this next\n# example, let's apply a new maximum test. We are also\n# going to filter the data based on this new test and plot up the results.\n\n# Add a new maximum tests\nobj.qcfilter.add_greater_test(variable, 0.4, test_meaning='New maximum tests limit')\n\n# Filter that test out\nobj.qcfilter.datafilter(variable, rm_tests=5, del_qc_var=False)\n\n# Create a plotting display object with 2 plots\ndisplay = act.plotting.TimeSeriesDisplay(obj, figsize=(15, 10), subplot_shape=(2,))\n\n# Plot up the diffuse variable in the first plot\ndisplay.plot(variable, subplot_index=(0,), day_night_background=True)\n\n# Plot up the QC variable in the second plot\ndisplay.qc_flag_block_plot(variable, subplot_index=(1,))\n\nplt.show()\n\n# ACT has a growing library of instrument specific tests such as the fast-fourier transform\n# test to detect shading which was adapted from Alexandrov et al 2007. The adaption is that\n# it is applied in a moving window style approach.\n\n# Apply test\nobj = act.qc.fft_shading_test(obj, variable=variable)\n\n# Create a plotting display object with 2 plots\ndisplay = act.plotting.TimeSeriesDisplay(obj, figsize=(15, 10), subplot_shape=(2,))\n\n# Plot up the diffuse variable in the first plot\ndisplay.plot(variable, subplot_index=(0,), day_night_background=True)\n\n# Plot up the QC variable in the second plot\ndisplay.qc_flag_block_plot(variable, subplot_index=(1,))\n\nplt.show()\n\n# The orginal embedded quality control variable plus additional tests we applied\n# to the data did a good job removing incorrect data, but we can manually clean up the\n# data a little more. By inspecting the data we can extract the time ranges where\n# data is incorrect and create a new test using those time ranges. Instead of hardcoding\n# those into the program we can write them to a YAML file for use in other programs or\n# to give to other users.\n# There is a file in the same directory called sgpmfrsr7nchE11.b1.yaml with times of\n# incorrect or suspect values that can be read and applied to the Dataset.\nfrom act.qc.add_supplemental_qc import apply_supplemental_qc\n\napply_supplemental_qc(obj, 'sgpmfrsr7nchE11.b1.yaml')\n\n# We can apply or reapply the data filter on the variable in the Dataset to change\n# the data values failing tests to NaN by passing a list of test numbers we want\n# to use. In this case we are not going to apply the DQR test (number 4) so we leave\n# that number out of the list.\nobj.qcfilter.datafilter(variable, rm_tests=[2, 3, 5, 6, 7, 8], del_qc_var=False)\n\n# Create a plotting display object with 2 plots\ndisplay = act.plotting.TimeSeriesDisplay(obj, figsize=(15, 10), subplot_shape=(2,))\n\n# Plot up the diffuse variable in the first plot\ndisplay.plot(variable, subplot_index=(0,), day_night_background=True)\n\n# Plot up the QC variable in the second plot\ndisplay.qc_flag_block_plot(variable, subplot_index=(1,))\n\nplt.show()"
      ]
    }
  ],
  "metadata": {
    "kernelspec": {
      "display_name": "Python 3",
      "language": "python",
      "name": "python3"
    },
    "language_info": {
      "codemirror_mode": {
        "name": "ipython",
        "version": 3
      },
      "file_extension": ".py",
      "mimetype": "text/x-python",
      "name": "python",
      "nbconvert_exporter": "python",
      "pygments_lexer": "ipython3",
      "version": "3.10.10"
    }
  },
  "nbformat": 4,
  "nbformat_minor": 0
}