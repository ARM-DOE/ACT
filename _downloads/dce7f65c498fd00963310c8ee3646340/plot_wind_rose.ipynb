{
  "cells": [
    {
      "cell_type": "code",
      "execution_count": null,
      "metadata": {
        "collapsed": false
      },
      "outputs": [],
      "source": [
        "%matplotlib inline"
      ]
    },
    {
      "cell_type": "markdown",
      "metadata": {},
      "source": [
        "\n# Example on how to plot winds and relative humidity from sounding data\n\n\nThis is an example of how to display wind rose and barb timeseries\nfrom multiple days worth of sounding data.\n\n\n"
      ]
    },
    {
      "cell_type": "code",
      "execution_count": null,
      "metadata": {
        "collapsed": false
      },
      "outputs": [],
      "source": [
        "import act\nimport numpy as np\n\nfrom matplotlib import pyplot as plt\n\nsonde_ds = act.io.armfiles.read_netcdf(\n    act.tests.sample_files.EXAMPLE_TWP_SONDE_WILDCARD)\n\nWindDisplay = act.plotting.WindRoseDisplay(sonde_ds, figsize=(8, 10), subplot_shape=(2,))\nWindDisplay.plot('deg', 'wspd',\n                 spd_bins=np.linspace(0, 25, 5), num_dirs=30,\n                 tick_interval=2, subplot_index=(0,))\n\n\nBarbDisplay = act.plotting.TimeSeriesDisplay(\n    {'sonde_darwin': sonde_ds}, figsize=(10, 5))\nWindDisplay.put_display_in_subplot(BarbDisplay, subplot_index=(1,))\nBarbDisplay.plot_time_height_xsection_from_1d_data('rh', 'pres',\n                                                   cmap='coolwarm_r',\n                                                   vmin=0, vmax=100,\n                                                   num_time_periods=25)\nBarbDisplay.plot_barbs_from_spd_dir('deg', 'wspd', 'pres',\n                                    num_barbs_x=20)\nplt.show()"
      ]
    }
  ],
  "metadata": {
    "kernelspec": {
      "display_name": "Python 3",
      "language": "python",
      "name": "python3"
    },
    "language_info": {
      "codemirror_mode": {
        "name": "ipython",
        "version": 3
      },
      "file_extension": ".py",
      "mimetype": "text/x-python",
      "name": "python",
      "nbconvert_exporter": "python",
      "pygments_lexer": "ipython3",
      "version": "3.6.7"
    }
  },
  "nbformat": 4,
  "nbformat_minor": 0
}