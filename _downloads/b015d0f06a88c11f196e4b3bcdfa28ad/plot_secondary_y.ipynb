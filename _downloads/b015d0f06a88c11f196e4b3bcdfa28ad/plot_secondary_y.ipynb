{
  "cells": [
    {
      "cell_type": "markdown",
      "metadata": {},
      "source": [
        "\n# Secondary Y-Axis Plotting\n\nThis example shows how to use the new capability\nto plot on the secondary y-axis. Previous versions\nof ACT only returned one axis object per plot, even\nwhen there was a secondary y-axis.  The new functionality\nwill return two axis objects per plot for the left and\nright y axes.\n"
      ]
    },
    {
      "cell_type": "code",
      "execution_count": null,
      "metadata": {
        "collapsed": false
      },
      "outputs": [],
      "source": [
        "import act\nimport matplotlib.pyplot as plt\nimport xarray as xr\n\n# Read in the data from a MET file\nds = act.io.arm.read_arm_netcdf(act.tests.EXAMPLE_MET1)\n\n# Plot temperature and relative humidity with RH on the right axis\ndisplay = act.plotting.TimeSeriesDisplay(ds, figsize=(10, 6))\n\n# Plot the data and make the y-axes color match the lines\n# Note, you need to specify the color for the secondary-y plot\n# if you want it different from the primary y-axis\ndisplay.plot('temp_mean', match_line_label_color=True)\ndisplay.plot('rh_mean', secondary_y=True, color='orange')\ndisplay.day_night_background()\n\n# In a slight change, the axes returned as part of the display object\n# for TimeSeries and DistributionDisplay now return a 2D array instead\n# of a 1D array.   The second dimension is the axes object for the right\n# axis which is automatically created.\n# It can still be used like before for modifications after ACT plotting\n\n# The left axis will have an index of 0\n#               \\/\ndisplay.axes[0, 0].set_yticks([-5, 0, 5])\ndisplay.axes[0, 0].set_yticklabels([\"That's cold\", \"Freezing\", \"Above Freezing\"])\n\n# The right axis will have an index of 1\n#               \\/\ndisplay.axes[0, 1].set_yticks([65, 75, 85])\ndisplay.axes[0, 1].set_yticklabels(['Not as humid', 'Slightly Humid', 'Humid'])\n\nplt.tight_layout()\nplt.show()"
      ]
    }
  ],
  "metadata": {
    "kernelspec": {
      "display_name": "Python 3",
      "language": "python",
      "name": "python3"
    },
    "language_info": {
      "codemirror_mode": {
        "name": "ipython",
        "version": 3
      },
      "file_extension": ".py",
      "mimetype": "text/x-python",
      "name": "python",
      "nbconvert_exporter": "python",
      "pygments_lexer": "ipython3",
      "version": "3.11.6"
    }
  },
  "nbformat": 4,
  "nbformat_minor": 0
}