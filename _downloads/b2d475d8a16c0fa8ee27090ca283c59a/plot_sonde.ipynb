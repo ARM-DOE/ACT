{
  "cells": [
    {
      "cell_type": "markdown",
      "metadata": {},
      "source": [
        "\n# Plot a timeseries of sounding data\n\nThis is a simple example for how to plot a timeseries of sounding\ndata from the ARM SGP site.\n\nAuthor: Robert Jackson\n"
      ]
    },
    {
      "cell_type": "code",
      "execution_count": null,
      "metadata": {
        "collapsed": false
      },
      "outputs": [],
      "source": [
        "from matplotlib import pyplot as plt\n\nimport act\n\nfiles = act.tests.sample_files.EXAMPLE_SONDE1\nsonde_ds = act.io.armfiles.read_netcdf(files)\nprint(sonde_ds)\n\n# Plot data\ndisplay = act.plotting.TimeSeriesDisplay(sonde_ds)\ndisplay.add_subplots((3,), figsize=(15, 10))\ndisplay.plot('wspd', subplot_index=(0,))\ndisplay.plot('tdry', subplot_index=(1,))\ndisplay.plot('rh', subplot_index=(2,))\nplt.show()"
      ]
    }
  ],
  "metadata": {
    "kernelspec": {
      "display_name": "Python 3",
      "language": "python",
      "name": "python3"
    },
    "language_info": {
      "codemirror_mode": {
        "name": "ipython",
        "version": 3
      },
      "file_extension": ".py",
      "mimetype": "text/x-python",
      "name": "python",
      "nbconvert_exporter": "python",
      "pygments_lexer": "ipython3",
      "version": "3.11.5"
    }
  },
  "nbformat": 4,
  "nbformat_minor": 0
}