{
  "cells": [
    {
      "cell_type": "markdown",
      "metadata": {},
      "source": [
        "\n# Plot a timeseries of sounding data\n\nThis is a simple example for how to plot a timeseries of sounding\ndata from the ARM SGP site.\n\nAuthor: Robert Jackson\n"
      ]
    },
    {
      "cell_type": "code",
      "execution_count": null,
      "metadata": {
        "collapsed": false
      },
      "outputs": [],
      "source": [
        "from arm_test_data import DATASETS\nfrom matplotlib import pyplot as plt\n\nimport act\n\nfilename_sonde = DATASETS.fetch('sgpsondewnpnC1.b1.20190101.053200.cdf')\nsonde_ds = act.io.arm.read_arm_netcdf(filename_sonde)\nprint(sonde_ds)\n\n# Plot data\ndisplay = act.plotting.TimeSeriesDisplay(sonde_ds)\ndisplay.add_subplots((3,), figsize=(15, 10))\ndisplay.plot('wspd', subplot_index=(0,))\ndisplay.plot('tdry', subplot_index=(1,))\ndisplay.plot('rh', subplot_index=(2,))\nplt.show()"
      ]
    }
  ],
  "metadata": {
    "kernelspec": {
      "display_name": "Python 3",
      "language": "python",
      "name": "python3"
    },
    "language_info": {
      "codemirror_mode": {
        "name": "ipython",
        "version": 3
      },
      "file_extension": ".py",
      "mimetype": "text/x-python",
      "name": "python",
      "nbconvert_exporter": "python",
      "pygments_lexer": "ipython3",
      "version": "3.11.8"
    }
  },
  "nbformat": 4,
  "nbformat_minor": 0
}