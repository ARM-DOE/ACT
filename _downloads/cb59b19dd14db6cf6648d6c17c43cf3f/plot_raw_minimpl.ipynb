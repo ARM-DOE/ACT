{
  "cells": [
    {
      "cell_type": "code",
      "execution_count": null,
      "metadata": {
        "collapsed": false
      },
      "outputs": [],
      "source": [
        "%matplotlib inline"
      ]
    },
    {
      "cell_type": "markdown",
      "metadata": {},
      "source": [
        "\n# Example on how to read and plot a PPI from mini-MPL\n\nExample of how to read in raw data from the mini-MPL\nand plot out the PPI by converting it to PyART\n\nAuthor: Adam Theisen\n"
      ]
    },
    {
      "cell_type": "code",
      "execution_count": null,
      "metadata": {
        "collapsed": false
      },
      "outputs": [],
      "source": [
        "import act\nfrom matplotlib import pyplot as plt\n\ntry:\n    import pyart\n    PYART_AVAILABLE = True\nexcept ImportError:\n    PYART_AVAILABLE = False\n\n# Read in sample mini-MPL data\nfiles = act.tests.sample_files.EXAMPLE_SIGMA_MPLV5\nobj = act.io.mpl.read_sigma_mplv5(files)\n\n# Create a PyART Radar Object\nradar = act.utils.create_pyart_obj(obj, azimuth='azimuth_angle', elevation='elevation_angle',\n                                   range_var='range')\n\n# Creat Plot Display\nif PYART_AVAILABLE:\n    display = pyart.graph.RadarDisplay(radar)\n    display.plot('nrb_copol', sweep=0, title_flag=False, vmin=0, vmax=1., cmap='jet')\n    plt.show()"
      ]
    }
  ],
  "metadata": {
    "kernelspec": {
      "display_name": "Python 3",
      "language": "python",
      "name": "python3"
    },
    "language_info": {
      "codemirror_mode": {
        "name": "ipython",
        "version": 3
      },
      "file_extension": ".py",
      "mimetype": "text/x-python",
      "name": "python",
      "nbconvert_exporter": "python",
      "pygments_lexer": "ipython3",
      "version": "3.7.9"
    }
  },
  "nbformat": 4,
  "nbformat_minor": 0
}