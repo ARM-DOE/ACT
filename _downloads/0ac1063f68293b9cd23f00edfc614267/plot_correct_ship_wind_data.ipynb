{
  "cells": [
    {
      "cell_type": "markdown",
      "metadata": {},
      "source": [
        "\n# Correct wind data for ship motion\n\nThis example shows how to calculate course and speed\nover ground of the ship and use it to correct the\nwind speed and direction data.\n"
      ]
    },
    {
      "cell_type": "code",
      "execution_count": null,
      "metadata": {
        "collapsed": false
      },
      "outputs": [],
      "source": [
        "from arm_test_data import DATASETS\nimport xarray as xr\n\nimport act\n\n# Read in the navigation data, mainly for the lat/lon\nfilename_nav = DATASETS.fetch('marnavM1.a1.20180201.000000.nc')\nnav_ds = act.io.arm.read_arm_netcdf(filename_nav)\n\n# Calculate course and speed over ground from the NAV\n# lat and lon data\nnav_ds = act.utils.ship_utils.calc_cog_sog(nav_ds)\n\n# Read in the data containing the wind speed and direction\nfilename_aosmet = DATASETS.fetch('maraosmetM1.a1.20180201.000000.nc')\naosmet_ds = act.io.arm.read_arm_netcdf(filename_aosmet)\n\n# Merge the navigation and wind data together\n# This have been previously resampled to 1-minute data\nds = xr.merge([nav_ds, aosmet_ds], compat='override')\n\n# Call the correction for the winds.  Note, that this only\n# corrects for ship course and speed, not roll and pitch.\nds = act.corrections.ship.correct_wind(ds)\n\nnav_ds.close()\naosmet_ds.close()\nds.close()"
      ]
    }
  ],
  "metadata": {
    "kernelspec": {
      "display_name": "Python 3",
      "language": "python",
      "name": "python3"
    },
    "language_info": {
      "codemirror_mode": {
        "name": "ipython",
        "version": 3
      },
      "file_extension": ".py",
      "mimetype": "text/x-python",
      "name": "python",
      "nbconvert_exporter": "python",
      "pygments_lexer": "ipython3",
      "version": "3.12.7"
    }
  },
  "nbformat": 4,
  "nbformat_minor": 0
}