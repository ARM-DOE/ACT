{
  "cells": [
    {
      "cell_type": "markdown",
      "metadata": {},
      "source": [
        "\n# Correct wind data for ship motion\n\nThis example shows how to calculate course and speed\nover ground of the ship and use it to correct the\nwind speed and direction data.\n"
      ]
    },
    {
      "cell_type": "code",
      "execution_count": null,
      "metadata": {
        "collapsed": false
      },
      "outputs": [],
      "source": [
        "import xarray as xr\n\nimport act\n\n# Read in the navigation data, mainly for the lat/lon\nnav_ds = act.io.armfiles.read_netcdf(act.tests.sample_files.EXAMPLE_NAV)\n\n# Calculate course and speed over ground from the NAV\n# lat and lon data\nnav_ds = act.utils.ship_utils.calc_cog_sog(nav_ds)\n\n# Read in the data containing the wind speed and direction\naosmet_ds = act.io.armfiles.read_netcdf(act.tests.sample_files.EXAMPLE_AOSMET)\n\n# Merge the navigation and wind data together\n# This have been previously resampled to 1-minute data\nds = xr.merge([nav_ds, aosmet_ds], compat='override')\n\n# Call the correction for the winds.  Note, that this only\n# corrects for ship course and speed, not roll and pitch.\nds = act.corrections.ship.correct_wind(ds)\n\nnav_ds.close()\naosmet_ds.close()\nds.close()"
      ]
    }
  ],
  "metadata": {
    "kernelspec": {
      "display_name": "Python 3",
      "language": "python",
      "name": "python3"
    },
    "language_info": {
      "codemirror_mode": {
        "name": "ipython",
        "version": 3
      },
      "file_extension": ".py",
      "mimetype": "text/x-python",
      "name": "python",
      "nbconvert_exporter": "python",
      "pygments_lexer": "ipython3",
      "version": "3.11.6"
    }
  },
  "nbformat": 4,
  "nbformat_minor": 0
}