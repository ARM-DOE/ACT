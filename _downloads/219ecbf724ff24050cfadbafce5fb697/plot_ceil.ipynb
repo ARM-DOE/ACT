{
  "cells": [
    {
      "cell_type": "code",
      "execution_count": null,
      "metadata": {
        "collapsed": false
      },
      "outputs": [],
      "source": [
        "%matplotlib inline"
      ]
    },
    {
      "cell_type": "markdown",
      "metadata": {},
      "source": [
        "\n# Simple plot of 2D data\n\nThis is an example of how to download and\nplot ceiliometer data from the SGP site\nover Oklahoma.\n"
      ]
    },
    {
      "cell_type": "code",
      "execution_count": null,
      "metadata": {
        "collapsed": false
      },
      "outputs": [],
      "source": [
        "import matplotlib.pyplot as plt\nimport act\nimport os\n\n# Place your username and token here\nusername = os.getenv('ARM_USERNAME')\ntoken = os.getenv('ARM_PASSWORD')\n\n# If the username and token are not set, use the existing sample file\nif username is None or token is None or len(username) == 0 or len(token) == 0:\n    ceil_ds = act.io.armfiles.read_netcdf(act.tests.sample_files.EXAMPLE_CEIL1)\nelse:\n    # Example to show how easy it is to download ARM data if a username/token are set\n    act.discovery.download_data(username, token, 'sgpceilC1.b1', '2017-01-14', '2017-01-19')\n    ceil_ds = act.io.armfiles.read_netcdf('./sgpceilC1.b1/*')\n\nceil_ds = act.corrections.ceil.correct_ceil(ceil_ds, -9999.0)\ndisplay = act.plotting.TimeSeriesDisplay(ceil_ds, subplot_shape=(1,), figsize=(15, 5))\ndisplay.plot('backscatter', subplot_index=(0,))\nplt.show()"
      ]
    }
  ],
  "metadata": {
    "kernelspec": {
      "display_name": "Python 3",
      "language": "python",
      "name": "python3"
    },
    "language_info": {
      "codemirror_mode": {
        "name": "ipython",
        "version": 3
      },
      "file_extension": ".py",
      "mimetype": "text/x-python",
      "name": "python",
      "nbconvert_exporter": "python",
      "pygments_lexer": "ipython3",
      "version": "3.10.4"
    }
  },
  "nbformat": 4,
  "nbformat_minor": 0
}