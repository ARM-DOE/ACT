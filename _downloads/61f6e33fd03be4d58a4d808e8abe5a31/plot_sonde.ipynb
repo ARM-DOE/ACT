{
  "cells": [
    {
      "cell_type": "code",
      "execution_count": null,
      "metadata": {
        "collapsed": false
      },
      "outputs": [],
      "source": [
        "%matplotlib inline"
      ]
    },
    {
      "cell_type": "markdown",
      "metadata": {},
      "source": [
        "\nExample on how to plot a timeseries of sounding data\n----------------------------------------------------\n\nThis is a simple example for how to plot a timeseries of sounding\ndata from the ARM SGP site.\n\nAuthor: Robert Jackson\n"
      ]
    },
    {
      "cell_type": "code",
      "execution_count": null,
      "metadata": {
        "collapsed": false
      },
      "outputs": [],
      "source": [
        "import act\nfrom matplotlib import pyplot as plt\n\nfiles = act.tests.sample_files.EXAMPLE_MET_WILDCARD\nmet = act.io.armfiles.read_netcdf(files)\nprint(met)\nmet_temp = met.temp_mean\nmet_rh = met.rh_mean\nmet_lcl = (20. + met_temp / 5.) * (100. - met_rh) / 1000.\nmet['met_lcl'] = met_lcl * 1000.\nmet['met_lcl'].attrs['units'] = 'm'\nmet['met_lcl'].attrs['long_name'] = 'LCL Calculated from SGP MET E13'\n\n# Plot data\ndisplay = act.plotting.TimeSeriesDisplay(met)\ndisplay.add_subplots((3,), figsize=(15, 10))\ndisplay.plot('wspd_vec_mean', subplot_index=(0, ))\ndisplay.plot('temp_mean', subplot_index=(1, ))\ndisplay.plot('rh_mean', subplot_index=(2, ))\nplt.show()"
      ]
    }
  ],
  "metadata": {
    "kernelspec": {
      "display_name": "Python 3",
      "language": "python",
      "name": "python3"
    },
    "language_info": {
      "codemirror_mode": {
        "name": "ipython",
        "version": 3
      },
      "file_extension": ".py",
      "mimetype": "text/x-python",
      "name": "python",
      "nbconvert_exporter": "python",
      "pygments_lexer": "ipython3",
      "version": "3.7.3"
    }
  },
  "nbformat": 4,
  "nbformat_minor": 0
}