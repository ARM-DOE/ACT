{
  "cells": [
    {
      "cell_type": "code",
      "execution_count": null,
      "metadata": {
        "collapsed": false
      },
      "outputs": [],
      "source": [
        "%matplotlib inline"
      ]
    },
    {
      "cell_type": "markdown",
      "metadata": {},
      "source": [
        "\n# NOAA FMCW Moment Data\n\nARM and NOAA have campaigns going on in the Crested Butte, CO region\nand as part of that campaign NOAA has FMCW radars deployed that could\nbenefit the broader ARM and NOAA communities.  This example shows how\neasy it is to download and read in NOAA PSL data.\n"
      ]
    },
    {
      "cell_type": "code",
      "execution_count": null,
      "metadata": {
        "collapsed": false
      },
      "outputs": [],
      "source": [
        "import act\nimport os\nimport matplotlib.pyplot as plt\n\n# Use the ACT downloader to download a file from the\n# Kettle Ponds site on 8/15/2022 at 2300 UTC\nresult = act.discovery.download_noaa_psl_data(\n    site='kps', instrument='Radar FMCW Moment', startdate='20220815', hour='23'\n)\n\n# Read in the .raw file.  Spectra data are also downloaded\nobj = act.io.noaapsl.read_psl_radar_fmcw_moment([result[-1]])\n\n# As Part of the reading in, the script calculates ranges and\n# corrects the SNR for range\ndisplay = act.plotting.TimeSeriesDisplay(obj)\ndisplay.plot('reflectivity_uncalibrated', cmap='jet', vmin=-20, vmax=40)\nplt.show()"
      ]
    }
  ],
  "metadata": {
    "kernelspec": {
      "display_name": "Python 3",
      "language": "python",
      "name": "python3"
    },
    "language_info": {
      "codemirror_mode": {
        "name": "ipython",
        "version": 3
      },
      "file_extension": ".py",
      "mimetype": "text/x-python",
      "name": "python",
      "nbconvert_exporter": "python",
      "pygments_lexer": "ipython3",
      "version": "3.10.6"
    }
  },
  "nbformat": 4,
  "nbformat_minor": 0
}