{
  "cells": [
    {
      "cell_type": "markdown",
      "metadata": {},
      "source": [
        "\n# Query the ARM DQR webservice\n\nThis example shows how to query the ARM Data Quality Report (DQR) webservice,\nto retrieve the machine readable DQR information and print it out to screen.\n\nAuthor: Adam Theisen\n"
      ]
    },
    {
      "cell_type": "code",
      "execution_count": null,
      "metadata": {
        "collapsed": false
      },
      "outputs": [],
      "source": [
        "import act\n\n# Pass in a datastream, start date, and end date to get all DQRs in that range\n# This will print it in a user readable format\ndqr = act.qc.print_dqr('sgp30ecorE14.b1', '20150101', '20190101')\n\n# If you want something that can be copy and pasted into a spreadsheet\n# set pretty_print=False\ndqr = act.qc.print_dqr('sgp30ecorE14.b1', '20150101', '20190101', pretty_print=False)"
      ]
    }
  ],
  "metadata": {
    "kernelspec": {
      "display_name": "Python 3",
      "language": "python",
      "name": "python3"
    },
    "language_info": {
      "codemirror_mode": {
        "name": "ipython",
        "version": 3
      },
      "file_extension": ".py",
      "mimetype": "text/x-python",
      "name": "python",
      "nbconvert_exporter": "python",
      "pygments_lexer": "ipython3",
      "version": "3.12.10"
    }
  },
  "nbformat": 4,
  "nbformat_minor": 0
}