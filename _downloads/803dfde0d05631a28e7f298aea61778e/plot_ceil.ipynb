{
  "cells": [
    {
      "cell_type": "markdown",
      "metadata": {},
      "source": [
        "\n# Simple plot of 2D data\n\nThis is an example of how to download and\nplot ceiliometer data from the SGP site\nover Oklahoma.\n"
      ]
    },
    {
      "cell_type": "code",
      "execution_count": null,
      "metadata": {
        "collapsed": false
      },
      "outputs": [],
      "source": [
        "import os\n\nfrom arm_test_data import DATASETS\nimport matplotlib.pyplot as plt\n\nimport act\n\n# Place your username and token here\nusername = os.getenv('ARM_USERNAME')\ntoken = os.getenv('ARM_PASSWORD')\n\n# If the username and token are not set, use the existing sample file\nif username is None or token is None or len(username) == 0 or len(token) == 0:\n    filename_ceil = DATASETS.fetch('sgpceilC1.b1.20190101.000000.nc')\n    ceil_ds = act.io.arm.read_arm_netcdf(filename_ceil, engine='netcdf4')\nelse:\n    # Example to show how easy it is to download ARM data if a username/token are set\n    results = act.discovery.download_arm_data(\n        username, token, 'sgpceilC1.b1', '2022-01-14', '2022-01-19'\n    )\n    ceil_ds = act.io.arm.read_arm_netcdf(results)\n\n# Adjust ceilometer data for plotting\nceil_ds = act.corrections.ceil.correct_ceil(ceil_ds, -9999.0)\n\n# Plot up ceilometer backscatter using HomeyerRainbow cb friendly colormap\n# The same could be done with keyword 'cmap='HomeyerRainbow'\ndisplay = act.plotting.TimeSeriesDisplay(ceil_ds, subplot_shape=(1,), figsize=(15, 5))\ndisplay.plot('backscatter', subplot_index=(0,), cb_friendly=True)\nplt.show()"
      ]
    }
  ],
  "metadata": {
    "kernelspec": {
      "display_name": "Python 3",
      "language": "python",
      "name": "python3"
    },
    "language_info": {
      "codemirror_mode": {
        "name": "ipython",
        "version": 3
      },
      "file_extension": ".py",
      "mimetype": "text/x-python",
      "name": "python",
      "nbconvert_exporter": "python",
      "pygments_lexer": "ipython3",
      "version": "3.11.8"
    }
  },
  "nbformat": 4,
  "nbformat_minor": 0
}