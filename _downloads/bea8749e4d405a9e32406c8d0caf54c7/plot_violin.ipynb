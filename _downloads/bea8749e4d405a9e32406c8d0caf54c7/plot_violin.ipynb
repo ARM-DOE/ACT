{
  "cells": [
    {
      "cell_type": "markdown",
      "metadata": {},
      "source": [
        "\n# Investigate Temperature Quantiles\n\nInvestigate Temperature Quantiles\nusing DistributionDisplay Violin Plots\n\nWritten: Joe O'Brien\n"
      ]
    },
    {
      "cell_type": "code",
      "execution_count": null,
      "metadata": {
        "collapsed": false
      },
      "outputs": [],
      "source": [
        "import matplotlib.pyplot as plt\n\nimport act\n\nfrom act.io.icartt import read_icartt\n\n# Call the read_icartt function, which supports input\n# for ICARTT (v2.0) formatted files.\n# Example file is ARM Aerial Facility Navigation Data\nds = read_icartt(act.tests.EXAMPLE_AAF_ICARTT)\n\n# Create a DistributionDisplay object to compare fields\ndisplay = act.plotting.DistributionDisplay(ds)\n\n# Compare aircraft ground speed with ambient temperature\ndisplay.plot_violin('ambient_temp',\n                    positions=[1.0],\n                    )\n\ndisplay.plot_violin('total_temp',\n                    positions=[2.0],\n                    set_title='Aircraft Temperatures 2018-11-04',\n                    )\n\n# Update the tick information\ndisplay.axes[0].set_xticks([0.5, 1, 2, 2.5])\ndisplay.axes[0].set_xticklabels(['',\n                                 'Ambient Air\\nTemp',\n                                 'Total\\nTemperature',\n                                 '']\n                                )\n\n# Update the y-axis label\ndisplay.axes[0].set_ylabel('Temperature Observations [C]')"
      ]
    }
  ],
  "metadata": {
    "kernelspec": {
      "display_name": "Python 3",
      "language": "python",
      "name": "python3"
    },
    "language_info": {
      "codemirror_mode": {
        "name": "ipython",
        "version": 3
      },
      "file_extension": ".py",
      "mimetype": "text/x-python",
      "name": "python",
      "nbconvert_exporter": "python",
      "pygments_lexer": "ipython3",
      "version": "3.11.5"
    }
  },
  "nbformat": 4,
  "nbformat_minor": 0
}