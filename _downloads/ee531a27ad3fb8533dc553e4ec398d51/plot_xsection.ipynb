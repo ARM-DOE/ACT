{
  "cells": [
    {
      "cell_type": "code",
      "execution_count": null,
      "metadata": {
        "collapsed": false
      },
      "outputs": [],
      "source": [
        "%matplotlib inline"
      ]
    },
    {
      "cell_type": "markdown",
      "metadata": {},
      "source": [
        "\n# Multidimensional cross sections\n\nIn this example, the VISST data are used to\nplot up cross-sectional slices through the\nmulti-dimensional dataset\n"
      ]
    },
    {
      "cell_type": "code",
      "execution_count": null,
      "metadata": {
        "collapsed": false
      },
      "outputs": [],
      "source": [
        "from datetime import datetime\n\nimport matplotlib.pyplot as plt\nimport xarray as xr\n\nimport act\n\nmy_ds = act.io.armfiles.read_netcdf(act.tests.sample_files.EXAMPLE_VISST)\n\n# Cross section display requires that the variable being plotted be reduced to two\n# Dimensions whose coordinates can be specified by variables in the file\ndisp = act.plotting.XSectionDisplay(\n    my_ds, figsize=(20, 8), subplot_shape=(2, 2))\ndisp.plot_xsection_map(\n    None,\n    'ir_temperature',\n    x='longitude',\n    y='latitude',\n    cmap='Greys',\n    vmin=200,\n    vmax=320,\n    subplot_index=(0, 0),\n)\ndisp.plot_xsection_map(\n    None,\n    'ir_temperature',\n    x='longitude',\n    y='latitude',\n    cmap='Greys',\n    vmin=200,\n    vmax=320,\n    subplot_index=(1, 0),\n)\ndisp.plot_xsection_map(\n    None,\n    'ir_temperature',\n    x='longitude',\n    y='latitude',\n    cmap='Greys',\n    vmin=200,\n    vmax=320,\n    subplot_index=(0, 1),\n)\ndisp.plot_xsection_map(\n    None,\n    'ir_temperature',\n    x='longitude',\n    y='latitude',\n    cmap='Greys',\n    vmin=200,\n    vmax=320,\n    subplot_index=(1, 1),\n)\n\nplt.show()\nmy_ds.close()"
      ]
    }
  ],
  "metadata": {
    "kernelspec": {
      "display_name": "Python 3",
      "language": "python",
      "name": "python3"
    },
    "language_info": {
      "codemirror_mode": {
        "name": "ipython",
        "version": 3
      },
      "file_extension": ".py",
      "mimetype": "text/x-python",
      "name": "python",
      "nbconvert_exporter": "python",
      "pygments_lexer": "ipython3",
      "version": "3.10.8"
    }
  },
  "nbformat": 4,
  "nbformat_minor": 0
}