{
  "cells": [
    {
      "cell_type": "code",
      "execution_count": null,
      "metadata": {
        "collapsed": false
      },
      "outputs": [],
      "source": [
        "%matplotlib inline"
      ]
    },
    {
      "cell_type": "markdown",
      "metadata": {},
      "source": [
        "\n# Example on how to plot multiple datasets at a time\n\n\nThis is an example of how to download and\nplot multiple datasets at a time.\n\n![](../../multi_ds_plot1.png)\n\n![](../../multi_ds_plot2.png)\n\n"
      ]
    },
    {
      "cell_type": "code",
      "execution_count": null,
      "metadata": {
        "collapsed": false
      },
      "outputs": [],
      "source": [
        "import act\nimport matplotlib.pyplot as plt\n\n# Place your username and token here\nusername = ''\ntoken = ''\n\nact.discovery.download_data(username, token, 'sgpceilC1.b1',\n                            '2019-01-01', '2019-01-07')\n\nceil_ds = act.io.armfiles.read_netcdf('sgpceilC1.b1/sgpceilC1.b1.201901*.nc')\nsonde_ds = act.io.armfiles.read_netcdf(\n    act.tests.sample_files.EXAMPLE_MET_WILDCARD)\nprint(sonde_ds.act.datastream)\nceil_ds = act.corrections.ceil.correct_ceil(ceil_ds, -9999.)\n\n# You can use tuples if the datasets in the tuple contain a\n# datastream attribute. This is required in all ARM datasets.\ndisplay = act.plotting.TimeSeriesDisplay(\n    (ceil_ds, sonde_ds), subplot_shape=(2, ), figsize=(15, 10))\ndisplay.plot('backscatter', 'sgpceilC1.b1', subplot_index=(0, ))\ndisplay.plot('temp_mean', 'sgpmetE13.b1', subplot_index=(1, ))\ndisplay.day_night_background('sgpmetE13.b1', subplot_index=(1, ))\nplt.show()\n\n# You can also use a dictionary so that you can customize\n# your datastream names to something that may be more useful.\ndisplay = act.plotting.TimeSeriesDisplay(\n    {'ceiliometer': ceil_ds, 'rawinsonde': sonde_ds},\n    subplot_shape=(2, ), figsize=(15, 10))\ndisplay.plot('backscatter', 'ceiliometer', subplot_index=(0, ))\ndisplay.plot('temp_mean', 'rawinsonde', subplot_index=(1, ))\ndisplay.day_night_background('rawinsonde', subplot_index=(1, ))\nplt.show()"
      ]
    }
  ],
  "metadata": {
    "kernelspec": {
      "display_name": "Python 3",
      "language": "python",
      "name": "python3"
    },
    "language_info": {
      "codemirror_mode": {
        "name": "ipython",
        "version": 3
      },
      "file_extension": ".py",
      "mimetype": "text/x-python",
      "name": "python",
      "nbconvert_exporter": "python",
      "pygments_lexer": "ipython3",
      "version": "3.7.3"
    }
  },
  "nbformat": 4,
  "nbformat_minor": 0
}