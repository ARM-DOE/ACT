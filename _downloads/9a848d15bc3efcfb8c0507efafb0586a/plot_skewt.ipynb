{
  "cells": [
    {
      "cell_type": "code",
      "execution_count": null,
      "metadata": {
        "collapsed": false
      },
      "outputs": [],
      "source": [
        "%matplotlib inline"
      ]
    },
    {
      "cell_type": "markdown",
      "metadata": {},
      "source": [
        "\nExample on how to plot a Skew-T plot of a sounding\n--------------------------------------------------\n\nThis example shows how to make a Skew-T plot from a sounding.\n"
      ]
    },
    {
      "cell_type": "code",
      "execution_count": null,
      "metadata": {
        "collapsed": false
      },
      "outputs": [],
      "source": [
        "import act\nimport numpy as np\n\nfrom matplotlib import pyplot as plt\n\nsonde_ds = act.io.armfiles.read_netcdf(\n    act.tests.sample_files.EXAMPLE_SONDE1)\n\nskewt = act.plotting.SkewTDisplay(sonde_ds)\n\nskewt.plot_from_u_and_v('u_wind', 'v_wind', 'pres', 'tdry', 'dp')\n\nplt.show(skewt.fig)\n\nsonde_ds.close()"
      ]
    }
  ],
  "metadata": {
    "kernelspec": {
      "display_name": "Python 3",
      "language": "python",
      "name": "python3"
    },
    "language_info": {
      "codemirror_mode": {
        "name": "ipython",
        "version": 3
      },
      "file_extension": ".py",
      "mimetype": "text/x-python",
      "name": "python",
      "nbconvert_exporter": "python",
      "pygments_lexer": "ipython3",
      "version": "3.7.3"
    }
  },
  "nbformat": 4,
  "nbformat_minor": 0
}