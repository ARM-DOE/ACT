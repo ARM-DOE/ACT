{
  "cells": [
    {
      "cell_type": "markdown",
      "metadata": {},
      "source": [
        "\n# Example plot using heat maps\n\nCompare MET temperature and RH using a heatmap\nand scatter plot.\n\nAuthor: Adam Theisen\n"
      ]
    },
    {
      "cell_type": "code",
      "execution_count": null,
      "metadata": {
        "collapsed": false
      },
      "outputs": [],
      "source": [
        "import act\nimport matplotlib.pyplot as plt\n\n# Read MET data in from the test data area\nds = act.io.armfiles.read_netcdf(act.tests.EXAMPLE_MET_WILDCARD)\n\n# Create a DistributionDisplay object to compare fields\ndisplay = act.plotting.DistributionDisplay(ds, subplot_shape=(1, 2), figsize=(12, 5))\n\n# Plot a heatmap and scatter plot up of RH vs Temperature\n# Set the number of bins for the x-axis to 25 and y to 20\ntitle = 'Heatmap of MET RH vs Temp'\ndisplay.plot_heatmap('temp_mean', 'rh_mean', x_bins=25, y_bins=20,\n                     threshold=0, subplot_index=(0, 0), set_title=title)\n\n# Plot the scatter plot and shade by wind_speed\ntitle = 'Scatter plot of MET RH vs Temp'\ndisplay.plot_scatter('temp_mean', 'rh_mean', subplot_index=(0, 1), set_title=title, m_field='time')\n\nplt.show()"
      ]
    }
  ],
  "metadata": {
    "kernelspec": {
      "display_name": "Python 3",
      "language": "python",
      "name": "python3"
    },
    "language_info": {
      "codemirror_mode": {
        "name": "ipython",
        "version": 3
      },
      "file_extension": ".py",
      "mimetype": "text/x-python",
      "name": "python",
      "nbconvert_exporter": "python",
      "pygments_lexer": "ipython3",
      "version": "3.11.5"
    }
  },
  "nbformat": 4,
  "nbformat_minor": 0
}