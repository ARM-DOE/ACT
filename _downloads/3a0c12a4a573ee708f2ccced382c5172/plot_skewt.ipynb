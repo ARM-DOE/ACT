{
  "cells": [
    {
      "cell_type": "code",
      "execution_count": null,
      "metadata": {
        "collapsed": false
      },
      "outputs": [],
      "source": [
        "%matplotlib inline"
      ]
    },
    {
      "cell_type": "markdown",
      "metadata": {},
      "source": [
        "\n# Example on how to plot a Skew-T plot of a sounding\n\nThis example shows how to make a Skew-T plot from a sounding\nand calculate stability indicies.  METPy needs to be installed\nin order to run this example\n"
      ]
    },
    {
      "cell_type": "code",
      "execution_count": null,
      "metadata": {
        "collapsed": false
      },
      "outputs": [],
      "source": [
        "import act\nfrom matplotlib import pyplot as plt\n\ntry:\n    import metpy\n    METPY = True\nexcept ImportError:\n    METPY = False\n\nif METPY:\n    # Read data\n    sonde_ds = act.io.armfiles.read_netcdf(\n        act.tests.sample_files.EXAMPLE_SONDE1)\n\n    # Calculate stability indicies\n    sonde_ds = act.retrievals.calculate_stability_indicies(\n        sonde_ds, temp_name=\"tdry\", td_name=\"dp\", p_name=\"pres\")\n    print(sonde_ds[\"lifted_index\"])\n\n    # Set up plot\n    skewt = act.plotting.SkewTDisplay(sonde_ds, figsize=(15, 10))\n\n    # Add data\n    skewt.plot_from_u_and_v('u_wind', 'v_wind', 'pres', 'tdry', 'dp')\n    sonde_ds.close()\n    plt.show()"
      ]
    }
  ],
  "metadata": {
    "kernelspec": {
      "display_name": "Python 3",
      "language": "python",
      "name": "python3"
    },
    "language_info": {
      "codemirror_mode": {
        "name": "ipython",
        "version": 3
      },
      "file_extension": ".py",
      "mimetype": "text/x-python",
      "name": "python",
      "nbconvert_exporter": "python",
      "pygments_lexer": "ipython3",
      "version": "3.7.9"
    }
  },
  "nbformat": 4,
  "nbformat_minor": 0
}